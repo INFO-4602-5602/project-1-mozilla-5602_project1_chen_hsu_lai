{
 "nbformat": 4,
 "nbformat_minor": 2,
 "metadata": {
  "language_info": {
   "name": "python",
   "codemirror_mode": {
    "name": "ipython",
    "version": 3
   }
  },
  "orig_nbformat": 2,
  "file_extension": ".py",
  "mimetype": "text/x-python",
  "name": "python",
  "npconvert_exporter": "python",
  "pygments_lexer": "ipython3",
  "version": 3
 },
 "cells": [
  {
   "cell_type": "code",
   "execution_count": 2,
   "metadata": {},
   "outputs": [
    {
     "name": "stderr",
     "output_type": "stream",
     "text": "/home/joe/anaconda3/lib/python3.7/site-packages/IPython/core/interactiveshell.py:3057: DtypeWarning: Columns (24,25,26,27,28,29,30,31,32,33) have mixed types. Specify dtype option on import or set low_memory=False.\n  interactivity=interactivity, compiler=compiler, result=result)\n"
    }
   ],
   "source": [
    "import pandas as pd\n",
    "data = pd.read_csv(\"20171013111831-SurveyExport.csv\", encoding=\"'cp1252\")"
   ]
  },
  {
   "cell_type": "code",
   "execution_count": 5,
   "metadata": {},
   "outputs": [
    {
     "data": {
      "text/plain": "Index(['Response ID', 'Time Started', 'Date Submitted', 'Status', 'Language',\n       'Country', 'Link Name', 'I consider myself:',\n       'WiFi Router:Check all the internet connected devices you currently own:',\n       'Laptop computer:Check all the internet connected devices you currently own:',\n       'Smart phone:Check all the internet connected devices you currently own:',\n       'Smart TV:Check all the internet connected devices you currently own:',\n       'Activity Tracker (ex: Fitbit or Apple Watch):Check all the internet connected devices you currently own:',\n       'Smarthome Hub (ex. Amazon Echo, Google Alexa):Check all the internet connected devices you currently own:',\n       'Car that connects to the internet:Check all the internet connected devices you currently own:',\n       'Smart Thermostat (ex: Nest):Check all the internet connected devices you currently own:',\n       'Smart Appliance (ex. Coffeemaker, Refrigerator, Oven, Fridge):Check all the internet connected devices you currently own:',\n       'Smart Door Locks (ex. Door locks for your home you can open via bluetooth):Check all the internet connected devices you currently own:',\n       'Smart Lighting (ex. Connected lighting switches, dimmers, or bulbs):Check all the internet connected devices you currently own:',\n       'Thinking about a future in which so much of your world is connected to the internet leaves you feeling:',\n       'What are you most excited about as we move toward a more digitally connected future?',\n       'What is your biggest fear as we move towards a more connected future?',\n       'Who is most responsible for protecting the online safety, privacy, and security of the connected apps and devices you own?',\n       'Who do you most trust to help you learn how to protect your safety, security and privacy online?',\n       'Price:You‰Ûªre planning on buying your next cool new tech toy. Maybe it‰Ûªs a smart TV or a new smartphone. åÊTake a look at the items below and arrange them in order of importance as you make that purchase.',\n       'Features:You‰Ûªre planning on buying your next cool new tech toy. Maybe it‰Ûªs a smart TV or a new smartphone. åÊTake a look at the items below and arrange them in order of importance as you make that purchase.',\n       'Safety:You‰Ûªre planning on buying your next cool new tech toy. Maybe it‰Ûªs a smart TV or a new smartphone. åÊTake a look at the items below and arrange them in order of importance as you make that purchase.',\n       'Security:You‰Ûªre planning on buying your next cool new tech toy. Maybe it‰Ûªs a smart TV or a new smartphone. åÊTake a look at the items below and arrange them in order of importance as you make that purchase.',\n       'Privacy:You‰Ûªre planning on buying your next cool new tech toy. Maybe it‰Ûªs a smart TV or a new smartphone. åÊTake a look at the items below and arrange them in order of importance as you make that purchase.',\n       'Reliability:You‰Ûªre planning on buying your next cool new tech toy. Maybe it‰Ûªs a smart TV or a new smartphone. åÊTake a look at the items below and arrange them in order of importance as you make that purchase.',\n       'User Reviews:You‰Ûªre planning on buying your next cool new tech toy. Maybe it‰Ûªs a smart TV or a new smartphone. åÊTake a look at the items below and arrange them in order of importance as you make that purchase.',\n       'Expert Recommendation:You‰Ûªre planning on buying your next cool new tech toy. Maybe it‰Ûªs a smart TV or a new smartphone. åÊTake a look at the items below and arrange them in order of importance as you make that purchase.',\n       'Friend or Family Recommendation:You‰Ûªre planning on buying your next cool new tech toy. Maybe it‰Ûªs a smart TV or a new smartphone. åÊTake a look at the items below and arrange them in order of importance as you make that purchase.',\n       'Convenience:You‰Ûªre planning on buying your next cool new tech toy. Maybe it‰Ûªs a smart TV or a new smartphone. åÊTake a look at the items below and arrange them in order of importance as you make that purchase.',\n       'IoT:Check all the terms below that you could explain to a friend:',\n       'Connected Devices:Check all the terms below that you could explain to a friend:',\n       'Botnet:Check all the terms below that you could explain to a friend:',\n       'Blockchain:Check all the terms below that you could explain to a friend:',\n       'RFID:Check all the terms below that you could explain to a friend:',\n       'DDOS:Check all the terms below that you could explain to a friend:',\n       'Zero Day:Check all the terms below that you could explain to a friend:',\n       'VPN:Check all the terms below that you could explain to a friend:',\n       'TOR:Check all the terms below that you could explain to a friend:',\n       'I don‰Ûªt know what any of these things are:Check all the terms below that you could explain to a friend:',\n       'Country or Region (optional)'],\n      dtype='object')"
     },
     "execution_count": 5,
     "metadata": {},
     "output_type": "execute_result"
    }
   ],
   "source": [
    "data.columns"
   ]
  },
  {
   "cell_type": "code",
   "execution_count": 8,
   "metadata": {},
   "outputs": [],
   "source": [
    "data = data[['Language','IoT:Check all the terms below that you could explain to a friend:',\n",
    "       'Connected Devices:Check all the terms below that you could explain to a friend:',\n",
    "       'Botnet:Check all the terms below that you could explain to a friend:',\n",
    "       'Blockchain:Check all the terms below that you could explain to a friend:',\n",
    "       'RFID:Check all the terms below that you could explain to a friend:',\n",
    "       'DDOS:Check all the terms below that you could explain to a friend:',\n",
    "       'Zero Day:Check all the terms below that you could explain to a friend:',\n",
    "       'VPN:Check all the terms below that you could explain to a friend:',\n",
    "       'TOR:Check all the terms below that you could explain to a friend:',]]"
   ]
  },
  {
   "cell_type": "code",
   "execution_count": 11,
   "metadata": {},
   "outputs": [],
   "source": [
    "header = [h.split(':')[0] for h in data.columns]\n",
    "data = pd.DataFrame(data=data.values, columns=header)"
   ]
  },
  {
   "cell_type": "code",
   "execution_count": 39,
   "metadata": {},
   "outputs": [],
   "source": [
    "lang_set = set(data['Language'])\n",
    "languages=[]\n",
    "for lang in lang_set:\n",
    "    df = data[data['Language']==lang]\n",
    "    tmp = {'categorie':lang, 'values':[]}\n",
    "    for term in header[1:]:\n",
    "        rate = len(df[df[term]==term])/len(df)\n",
    "        tmp['values'].append({\"value\":rate, \"rate\":term})\n",
    "    languages.append(tmp)"
   ]
  },
  {
   "cell_type": "code",
   "execution_count": 40,
   "metadata": {},
   "outputs": [
    {
     "data": {
      "text/plain": "[{'categorie': 'English',\n  'values': [{'value': 0.3274755766229262, 'rate': 'IoT'},\n   {'value': 0.7059752972233463, 'rate': 'Connected Devices'},\n   {'value': 0.3065495115324585, 'rate': 'Botnet'},\n   {'value': 0.19544482340019653, 'rate': 'Blockchain'},\n   {'value': 0.36582076035223615, 'rate': 'RFID'},\n   {'value': 0.34387344162475675, 'rate': 'DDOS'},\n   {'value': 0.2208798196427539, 'rate': 'Zero Day'},\n   {'value': 0.5586064705088926, 'rate': 'VPN'},\n   {'value': 0.3445863922770102, 'rate': 'TOR'}]},\n {'categorie': 'French',\n  'values': [{'value': 0.17175964639827979, 'rate': 'IoT'},\n   {'value': 0.7893441643770159, 'rate': 'Connected Devices'},\n   {'value': 0.24513200334488114, 'rate': 'Botnet'},\n   {'value': 0.1747700394218134, 'rate': 'Blockchain'},\n   {'value': 0.2604467805519054, 'rate': 'RFID'},\n   {'value': 0.3244534703141799, 'rate': 'DDOS'},\n   {'value': 0.17443555130808744, 'rate': 'Zero Day'},\n   {'value': 0.5264365069884124, 'rate': 'VPN'},\n   {'value': 0.3850674949229483, 'rate': 'TOR'}]},\n {'categorie': 'pt-br',\n  'values': [{'value': 0.19347842345374316, 'rate': 'IoT'},\n   {'value': 0.7135591952733528, 'rate': 'Connected Devices'},\n   {'value': 0.17911898885648045, 'rate': 'Botnet'},\n   {'value': 0.1245980106199985, 'rate': 'Blockchain'},\n   {'value': 0.1409767407075013, 'rate': 'RFID'},\n   {'value': 0.2517388377832623, 'rate': 'DDOS'},\n   {'value': 0.1054520978236482, 'rate': 'Zero Day'},\n   {'value': 0.4725151447161768, 'rate': 'VPN'},\n   {'value': 0.29167601525689923, 'rate': 'TOR'}]},\n {'categorie': 'German',\n  'values': [{'value': 0.26407222488201904, 'rate': 'IoT'},\n   {'value': 0.7425620682579851, 'rate': 'Connected Devices'},\n   {'value': 0.42586006429108814, 'rate': 'Botnet'},\n   {'value': 0.1915395663771288, 'rate': 'Blockchain'},\n   {'value': 0.3446754667943369, 'rate': 'RFID'},\n   {'value': 0.3712468367416729, 'rate': 'DDOS'},\n   {'value': 0.22122289857054922, 'rate': 'Zero Day'},\n   {'value': 0.5714725394979824, 'rate': 'VPN'},\n   {'value': 0.4683674167293619, 'rate': 'TOR'}]},\n {'categorie': 'Italian',\n  'values': [{'value': 0.210298266827892, 'rate': 'IoT'},\n   {'value': 0.7908773344081688, 'rate': 'Connected Devices'},\n   {'value': 0.19968426709660084, 'rate': 'Botnet'},\n   {'value': 0.13176810425903535, 'rate': 'Blockchain'},\n   {'value': 0.18366250167943035, 'rate': 'RFID'},\n   {'value': 0.273310493080747, 'rate': 'DDOS'},\n   {'value': 0.1388217116753997, 'rate': 'Zero Day'},\n   {'value': 0.46862824130055086, 'rate': 'VPN'},\n   {'value': 0.30904877065699315, 'rate': 'TOR'}]},\n {'categorie': 'Spanish',\n  'values': [{'value': 0.20549081721160012, 'rate': 'IoT'},\n   {'value': 0.7291548817739564, 'rate': 'Connected Devices'},\n   {'value': 0.19263114228608064, 'rate': 'Botnet'},\n   {'value': 0.14771655918844515, 'rate': 'Blockchain'},\n   {'value': 0.13742127691669495, 'rate': 'RFID'},\n   {'value': 0.28170607534789005, 'rate': 'DDOS'},\n   {'value': 0.19119809933250367, 'rate': 'Zero Day'},\n   {'value': 0.5131048006938945, 'rate': 'VPN'},\n   {'value': 0.3342384130934872, 'rate': 'TOR'}]}]"
     },
     "execution_count": 40,
     "metadata": {},
     "output_type": "execute_result"
    }
   ],
   "source": [
    "languages\n"
   ]
  },
  {
   "cell_type": "code",
   "execution_count": 41,
   "metadata": {},
   "outputs": [],
   "source": [
    "import json\n",
    "json.dump(languages, open('languages.json','w'), indent=4)"
   ]
  },
  {
   "cell_type": "code",
   "execution_count": 51,
   "metadata": {},
   "outputs": [],
   "source": [
    "terms=[]\n",
    "lang_set = list(lang_set)\n",
    "for term in header[1:]:\n",
    "    tmp = {'categorie':term, 'values':[]}\n",
    "    for lang in lang_set[1:]:\n",
    "        df = data[data['Language']==lang]\n",
    "        rate = len(df[df[term]==term])/len(df)\n",
    "        tmp['values'].append({\"value\":rate, \"rate\":lang})\n",
    "    terms.append(tmp)"
   ]
  },
  {
   "cell_type": "code",
   "execution_count": 52,
   "metadata": {},
   "outputs": [],
   "source": [
    "import json\n",
    "json.dump(terms, open('terms1.json','w'), indent=4)"
   ]
  },
  {
   "cell_type": "code",
   "execution_count": 54,
   "metadata": {},
   "outputs": [
    {
     "data": {
      "text/plain": "['English', 'French', 'pt-br', 'German', 'Italian', 'Spanish']"
     },
     "execution_count": 54,
     "metadata": {},
     "output_type": "execute_result"
    }
   ],
   "source": [
    "lang_set"
   ]
  },
  {
   "cell_type": "code",
   "execution_count": null,
   "metadata": {},
   "outputs": [],
   "source": []
  }
 ]
}