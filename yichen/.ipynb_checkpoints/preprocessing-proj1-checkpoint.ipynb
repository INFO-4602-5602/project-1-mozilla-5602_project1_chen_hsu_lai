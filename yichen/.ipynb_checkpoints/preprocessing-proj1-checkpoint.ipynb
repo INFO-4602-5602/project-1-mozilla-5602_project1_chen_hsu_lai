{
 "cells": [
  {
   "cell_type": "code",
   "execution_count": 138,
   "metadata": {},
   "outputs": [],
   "source": [
    "import csv\n",
    "import pandas as pd"
   ]
  },
  {
   "cell_type": "code",
   "execution_count": 149,
   "metadata": {},
   "outputs": [],
   "source": [
    "data = pd.read_csv(\"~/Downloads/20171013111831-SurveyExport.csv\",encoding = 'iso8859-1')"
   ]
  },
  {
   "cell_type": "code",
   "execution_count": 150,
   "metadata": {},
   "outputs": [
    {
     "data": {
      "text/plain": [
       "Index(['Response ID', 'Time Started', 'Date Submitted', 'Status', 'Language',\n",
       "       'Country', 'Link Name', 'I consider myself:',\n",
       "       'WiFi Router:Check all the internet connected devices you currently own:',\n",
       "       'Laptop computer:Check all the internet connected devices you currently own:',\n",
       "       'Smart phone:Check all the internet connected devices you currently own:',\n",
       "       'Smart TV:Check all the internet connected devices you currently own:',\n",
       "       'Activity Tracker (ex: Fitbit or Apple Watch):Check all the internet connected devices you currently own:',\n",
       "       'Smarthome Hub (ex. Amazon Echo, Google Alexa):Check all the internet connected devices you currently own:',\n",
       "       'Car that connects to the internet:Check all the internet connected devices you currently own:',\n",
       "       'Smart Thermostat (ex: Nest):Check all the internet connected devices you currently own:',\n",
       "       'Smart Appliance (ex. Coffeemaker, Refrigerator, Oven, Fridge):Check all the internet connected devices you currently own:',\n",
       "       'Smart Door Locks (ex. Door locks for your home you can open via bluetooth):Check all the internet connected devices you currently own:',\n",
       "       'Smart Lighting (ex. Connected lighting switches, dimmers, or bulbs):Check all the internet connected devices you currently own:',\n",
       "       'Thinking about a future in which so much of your world is connected to the internet leaves you feeling:',\n",
       "       'What are you most excited about as we move toward a more digitally connected future?',\n",
       "       'What is your biggest fear as we move towards a more connected future?',\n",
       "       'Who is most responsible for protecting the online safety, privacy, and security of the connected apps and devices you own?',\n",
       "       'Who do you most trust to help you learn how to protect your safety, security and privacy online?',\n",
       "       'Price:YouÛªre planning on buying your next cool new tech toy. Maybe itÛªs a smart TV or a new smartphone. åÊTake a look at the items below and arrange them in order of importance as you make that purchase.',\n",
       "       'Features:YouÛªre planning on buying your next cool new tech toy. Maybe itÛªs a smart TV or a new smartphone. åÊTake a look at the items below and arrange them in order of importance as you make that purchase.',\n",
       "       'Safety:YouÛªre planning on buying your next cool new tech toy. Maybe itÛªs a smart TV or a new smartphone. åÊTake a look at the items below and arrange them in order of importance as you make that purchase.',\n",
       "       'Security:YouÛªre planning on buying your next cool new tech toy. Maybe itÛªs a smart TV or a new smartphone. åÊTake a look at the items below and arrange them in order of importance as you make that purchase.',\n",
       "       'Privacy:YouÛªre planning on buying your next cool new tech toy. Maybe itÛªs a smart TV or a new smartphone. åÊTake a look at the items below and arrange them in order of importance as you make that purchase.',\n",
       "       'Reliability:YouÛªre planning on buying your next cool new tech toy. Maybe itÛªs a smart TV or a new smartphone. åÊTake a look at the items below and arrange them in order of importance as you make that purchase.',\n",
       "       'User Reviews:YouÛªre planning on buying your next cool new tech toy. Maybe itÛªs a smart TV or a new smartphone. åÊTake a look at the items below and arrange them in order of importance as you make that purchase.',\n",
       "       'Expert Recommendation:YouÛªre planning on buying your next cool new tech toy. Maybe itÛªs a smart TV or a new smartphone. åÊTake a look at the items below and arrange them in order of importance as you make that purchase.',\n",
       "       'Friend or Family Recommendation:YouÛªre planning on buying your next cool new tech toy. Maybe itÛªs a smart TV or a new smartphone. åÊTake a look at the items below and arrange them in order of importance as you make that purchase.',\n",
       "       'Convenience:YouÛªre planning on buying your next cool new tech toy. Maybe itÛªs a smart TV or a new smartphone. åÊTake a look at the items below and arrange them in order of importance as you make that purchase.',\n",
       "       'IoT:Check all the terms below that you could explain to a friend:',\n",
       "       'Connected Devices:Check all the terms below that you could explain to a friend:',\n",
       "       'Botnet:Check all the terms below that you could explain to a friend:',\n",
       "       'Blockchain:Check all the terms below that you could explain to a friend:',\n",
       "       'RFID:Check all the terms below that you could explain to a friend:',\n",
       "       'DDOS:Check all the terms below that you could explain to a friend:',\n",
       "       'Zero Day:Check all the terms below that you could explain to a friend:',\n",
       "       'VPN:Check all the terms below that you could explain to a friend:',\n",
       "       'TOR:Check all the terms below that you could explain to a friend:',\n",
       "       'I donÛªt know what any of these things are:Check all the terms below that you could explain to a friend:',\n",
       "       'Country or Region (optional)'],\n",
       "      dtype='object')"
      ]
     },
     "execution_count": 150,
     "metadata": {},
     "output_type": "execute_result"
    }
   ],
   "source": [
    "data.columns"
   ]
  },
  {
   "cell_type": "code",
   "execution_count": 151,
   "metadata": {},
   "outputs": [],
   "source": [
    "data = data[['Country','Price:YouÛªre planning on buying your next cool new tech toy. Maybe itÛªs a smart TV or a new smartphone. åÊTake a look at the items below and arrange them in order of importance as you make that purchase.',\n",
    "       'Features:YouÛªre planning on buying your next cool new tech toy. Maybe itÛªs a smart TV or a new smartphone. åÊTake a look at the items below and arrange them in order of importance as you make that purchase.',\n",
    "       'Safety:YouÛªre planning on buying your next cool new tech toy. Maybe itÛªs a smart TV or a new smartphone. åÊTake a look at the items below and arrange them in order of importance as you make that purchase.',\n",
    "       'Security:YouÛªre planning on buying your next cool new tech toy. Maybe itÛªs a smart TV or a new smartphone. åÊTake a look at the items below and arrange them in order of importance as you make that purchase.',\n",
    "       'Privacy:YouÛªre planning on buying your next cool new tech toy. Maybe itÛªs a smart TV or a new smartphone. åÊTake a look at the items below and arrange them in order of importance as you make that purchase.',\n",
    "       'Reliability:YouÛªre planning on buying your next cool new tech toy. Maybe itÛªs a smart TV or a new smartphone. åÊTake a look at the items below and arrange them in order of importance as you make that purchase.',\n",
    "       'User Reviews:YouÛªre planning on buying your next cool new tech toy. Maybe itÛªs a smart TV or a new smartphone. åÊTake a look at the items below and arrange them in order of importance as you make that purchase.',\n",
    "       'Expert Recommendation:YouÛªre planning on buying your next cool new tech toy. Maybe itÛªs a smart TV or a new smartphone. åÊTake a look at the items below and arrange them in order of importance as you make that purchase.',\n",
    "       'Friend or Family Recommendation:YouÛªre planning on buying your next cool new tech toy. Maybe itÛªs a smart TV or a new smartphone. åÊTake a look at the items below and arrange them in order of importance as you make that purchase.',\n",
    "       'Convenience:YouÛªre planning on buying your next cool new tech toy. Maybe itÛªs a smart TV or a new smartphone. åÊTake a look at the items below and arrange them in order of importance as you make that purchase.']]"
   ]
  },
  {
   "cell_type": "code",
   "execution_count": 152,
   "metadata": {},
   "outputs": [],
   "source": [
    "data.columns = ['country','Price','Features','Safety','Security','Privacy','Reliability','User Reviews','Expert Rec','Friend or Family Rec','Convenience']"
   ]
  },
  {
   "cell_type": "code",
   "execution_count": 153,
   "metadata": {},
   "outputs": [],
   "source": [
    "data = data.dropna(0)\n",
    "data = data[data['country']!=0]"
   ]
  },
  {
   "cell_type": "code",
   "execution_count": 154,
   "metadata": {},
   "outputs": [],
   "source": [
    "selected = data['country'].value_counts().nlargest(19).index.tolist()\n",
    "data = data[data['country'].isin(selected)]"
   ]
  },
  {
   "cell_type": "code",
   "execution_count": 180,
   "metadata": {},
   "outputs": [],
   "source": [
    "df = pd.DataFrame(selected,columns = ['country'])"
   ]
  },
  {
   "cell_type": "code",
   "execution_count": 181,
   "metadata": {},
   "outputs": [],
   "source": [
    "def getCount(colName):\n",
    "    return data.groupby(['country']).apply(lambda x: (x[colName]== 1).sum()).reset_index(name=colName)\n",
    "for name in data.columns[1:]:\n",
    "    tmpDf = getCount(name)\n",
    "    df = df.merge(tmpDf,on='country')\n"
   ]
  },
  {
   "cell_type": "code",
   "execution_count": 184,
   "metadata": {},
   "outputs": [],
   "source": [
    "df['count']=df.sum(axis=1).reset_index(drop=True)\n",
    "for name in data.columns[1:]:\n",
    "    df[name] = round(df[name] / df['count'], 4)"
   ]
  },
  {
   "cell_type": "code",
   "execution_count": 186,
   "metadata": {},
   "outputs": [],
   "source": [
    "del df['count']\n",
    "df = df.sort_values('country')\n",
    "df.to_csv('country_factors.csv',index=False)"
   ]
  },
  {
   "cell_type": "code",
   "execution_count": null,
   "metadata": {},
   "outputs": [],
   "source": []
  }
 ],
 "metadata": {
  "kernelspec": {
   "display_name": "Python 3",
   "language": "python",
   "name": "python3"
  },
  "language_info": {
   "codemirror_mode": {
    "name": "ipython",
    "version": 3
   },
   "file_extension": ".py",
   "mimetype": "text/x-python",
   "name": "python",
   "nbconvert_exporter": "python",
   "pygments_lexer": "ipython3",
   "version": "3.7.3"
  }
 },
 "nbformat": 4,
 "nbformat_minor": 2
}
