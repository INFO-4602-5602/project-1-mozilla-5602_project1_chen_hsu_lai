{
 "cells": [
  {
   "cell_type": "code",
   "execution_count": 58,
   "metadata": {},
   "outputs": [],
   "source": [
    "import csv\n",
    "import json\n",
    "from collections import defaultdict"
   ]
  },
  {
   "cell_type": "markdown",
   "metadata": {},
   "source": []
  },
  {
   "cell_type": "code",
   "execution_count": 59,
   "metadata": {},
   "outputs": [],
   "source": [
    "file = 'world_population.tsv'\n",
    "ctry_d = {}\n",
    "\n",
    "with open(file, encoding=\"utf-8\") as csvfile:\n",
    "    readCSV = csv.reader(csvfile, delimiter='\\t')\n",
    "    for idx, row in enumerate(readCSV):\n",
    "        if idx != 0:\n",
    "            ctry_d[row[1].lower()] = row[0]"
   ]
  },
  {
   "cell_type": "code",
   "execution_count": 60,
   "metadata": {},
   "outputs": [
    {
     "name": "stdout",
     "output_type": "stream",
     "text": [
      "defaultdict(<function <lambda> at 0x105b20320>, {'': 70, 'anonymous proxy': 38, 'martinique': 107, 'guadeloupe': 102, 'reunion': 390, 'french guiana': 50, 'palestinian territory': 7, 'bahamas': 7, 'guam': 3, 'curacao': 8, 'congo': 16, 'europe': 159, 'asia/pacific region': 11, 'holy see (vatican city state)': 2, 'sint maarten (dutch part)': 1, 'brunei darussalam': 12, 'virgin islands, u.s.': 4, 'gambia': 3})\n"
     ]
    }
   ],
   "source": [
    "file = 'edited_data.txt'\n",
    "d = defaultdict(lambda: defaultdict(int))\n",
    "error_d = defaultdict(lambda: 0)\n",
    "\n",
    "with open(file, encoding=\"utf-16\") as csvfile:\n",
    "    readCSV = csv.reader(csvfile, delimiter='\\t')\n",
    "    for idx, row in enumerate(readCSV):\n",
    "        if idx != 0:\n",
    "            ctry = row[0].lower()\n",
    "            code = None\n",
    "            try:\n",
    "                code = ctry_d[ctry]\n",
    "                for _idx, data in enumerate(row[1:]):\n",
    "                    # 2: laptop\n",
    "                    # 3: smartphone\n",
    "                    # 4: tv\n",
    "                    # 5: fitness tracker\n",
    "                    # others: appliances\n",
    "                    device = ''\n",
    "                    if _idx == 2:\n",
    "                        device = 'laptop'\n",
    "                    elif _idx == 3:\n",
    "                        device = 'phone'\n",
    "                    elif _idx == 4:\n",
    "                        device = 'tv'\n",
    "                    elif _idx == 5:\n",
    "                        device = 'fitness'\n",
    "                    else:\n",
    "                        device = 'appliance'\n",
    "\n",
    "                    val = 0\n",
    "                    if len(data) > 0:\n",
    "                        val = 1\n",
    "                    d[code][device] += val\n",
    "            except:\n",
    "                error_d[ctry] += 1\n",
    "\n",
    "print(error_d)"
   ]
  },
  {
   "cell_type": "code",
   "execution_count": 61,
   "metadata": {},
   "outputs": [],
   "source": [
    "import json\n",
    "with open('data.json', 'w', encoding='utf-8') as f:\n",
    "    json.dump(dict(d), f, ensure_ascii=False, indent=4)"
   ]
  },
  {
   "cell_type": "code",
   "execution_count": null,
   "metadata": {},
   "outputs": [],
   "source": []
  }
 ],
 "metadata": {
  "kernelspec": {
   "display_name": "Python 3",
   "language": "python",
   "name": "python3"
  },
  "language_info": {
   "codemirror_mode": {
    "name": "ipython",
    "version": 3
   },
   "file_extension": ".py",
   "mimetype": "text/x-python",
   "name": "python",
   "nbconvert_exporter": "python",
   "pygments_lexer": "ipython3",
   "version": "3.7.5"
  }
 },
 "nbformat": 4,
 "nbformat_minor": 2
}
